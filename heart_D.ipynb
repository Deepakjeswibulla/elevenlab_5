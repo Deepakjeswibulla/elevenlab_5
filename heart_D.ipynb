{
 "cells": [
  {
   "cell_type": "code",
   "execution_count": 2,
   "id": "57aa883e",
   "metadata": {},
   "outputs": [
    {
     "name": "stdout",
     "output_type": "stream",
     "text": [
      "Collecting graphviz\n",
      "  Downloading graphviz-0.21-py3-none-any.whl.metadata (12 kB)\n",
      "Downloading graphviz-0.21-py3-none-any.whl (47 kB)\n",
      "Installing collected packages: graphviz\n",
      "Successfully installed graphviz-0.21\n"
     ]
    }
   ],
   "source": [
    "!pip install graphviz"
   ]
  },
  {
   "cell_type": "code",
   "execution_count": 3,
   "id": "0fbe7084",
   "metadata": {},
   "outputs": [
    {
     "name": "stdout",
     "output_type": "stream",
     "text": [
      "Data split: Train samples=350, Test samples=150\n"
     ]
    }
   ],
   "source": [
    "import pandas as pd\n",
    "import numpy as np\n",
    "import matplotlib.pyplot as plt\n",
    "from sklearn.model_selection import train_test_split, cross_val_score\n",
    "from sklearn.tree import DecisionTreeClassifier, export_graphviz\n",
    "from sklearn.ensemble import RandomForestClassifier\n",
    "from sklearn.metrics import accuracy_score\n",
    "from graphviz import Source \n",
    "\n",
    "pd.set_option('display.max_columns', None)\n",
    "\n",
    "\n",
    "from sklearn.datasets import make_classification\n",
    "X, y = make_classification(n_samples=500, n_features=10, n_informative=5, n_redundant=0, \n",
    "                           n_classes=2, random_state=42)\n",
    "feature_names = [f'Feature_{i}' for i in range(X.shape[1])]\n",
    "\n",
    "X_train, X_test, y_train, y_test = train_test_split(X, y, test_size=0.3, random_state=42)\n",
    "\n",
    "print(f\"Data split: Train samples={len(X_train)}, Test samples={len(X_test)}\")\n",
    "\n"
   ]
  },
  {
   "cell_type": "code",
   "execution_count": 4,
   "id": "a64a0799",
   "metadata": {},
   "outputs": [
    {
     "name": "stdout",
     "output_type": "stream",
     "text": [
      "Full DT Training Accuracy: 1.0000\n",
      "Full DT Test Accuracy: 0.8400\n"
     ]
    }
   ],
   "source": [
    "dt_full = DecisionTreeClassifier(random_state=42)\n",
    "dt_full.fit(X_train, y_train)\n",
    "\n",
    "train_acc_full = accuracy_score(y_train, dt_full.predict(X_train))\n",
    "test_acc_full = accuracy_score(y_test, dt_full.predict(X_test))\n",
    "\n",
    "print(f\"Full DT Training Accuracy: {train_acc_full:.4f}\")\n",
    "print(f\"Full DT Test Accuracy: {test_acc_full:.4f}\")\n",
    "\n"
   ]
  },
  {
   "cell_type": "code",
   "execution_count": 5,
   "id": "c0530bb5",
   "metadata": {},
   "outputs": [
    {
     "name": "stdout",
     "output_type": "stream",
     "text": [
      "Decision Tree Visualization: 'decision_tree_full.png' file generated (if Graphviz is installed).\n"
     ]
    }
   ],
   "source": [
    "dot_data = export_graphviz(\n",
    "    dt_full, \n",
    "    out_file=None, \n",
    "    feature_names=feature_names, \n",
    "    class_names=['No Disease', 'Disease'],\n",
    "    filled=True, \n",
    "    rounded=True,\n",
    "    special_characters=True,\n",
    "    max_depth=3 \n",
    ")\n",
    "\n",
    "\n",
    "print(\"Decision Tree Visualization: 'decision_tree_full.png' file generated (if Graphviz is installed).\")\n",
    "\n",
    "\n",
    "\n"
   ]
  },
  {
   "cell_type": "code",
   "execution_count": null,
   "id": "005ed03b",
   "metadata": {},
   "outputs": [],
   "source": [
    "dt_pruned = DecisionTreeClassifier(max_depth=3, random_state=42) # Control depth [cite: 8]\n",
    "dt_pruned.fit(X_train, y_train)\n",
    "\n",
    "train_acc_pruned = accuracy_score(y_train, dt_pruned.predict(X_train))\n",
    "test_acc_pruned = accuracy_score(y_test, dt_pruned.predict(X_test))\n",
    "\n",
    "print(f\"Pruned DT Training Accuracy (max_depth=3): {train_acc_pruned:.4f}\")\n",
    "print(f\"Pruned DT Test Accuracy (max_depth=3): {test_acc_pruned:.4f}\")\n",
    "print(\"Controlling max_depth reduces overfitting, making the training/test scores closer.\")\n",
    "\n",
    "\n",
    "\n",
    "4wtrjhg\n"
   ]
  },
  {
   "cell_type": "code",
   "execution_count": null,
   "id": "24c28627",
   "metadata": {},
   "outputs": [],
   "source": [
    "rf_model = RandomForestClassifier(n_estimators=100, random_state=42, n_jobs=-1)\n",
    "rf_model.fit(X_train, y_train)\n",
    "\n",
    "# Evaluate the Random Forest model\n",
    "train_acc_rf = accuracy_score(y_train, rf_model.predict(X_train))\n",
    "test_acc_rf = accuracy_score(y_test, rf_model.predict(X_test))\n",
    "\n",
    "print(f\"Random Forest Training Accuracy: {train_acc_rf:.4f}\") # Often near 1.0\n",
    "print(f\"Random Forest Test Accuracy: {test_acc_rf:.4f}\")\n",
    "\n",
    "print(\"\\n--- Model Accuracy Comparison ---\")\n",
    "print(f\"Unconstrained DT Test Acc: {test_acc_full:.4f}\")\n",
    "print(f\"Pruned DT Test Acc: {test_acc_pruned:.4f}\")\n",
    "print(f\"Random Forest Test Acc: {test_acc_rf:.4f}\")\n",
    "print(\"Random Forest often achieves better generalization (higher test accuracy) than a single DT[cite: 18].\")\n",
    "\n"
   ]
  },
  {
   "cell_type": "code",
   "execution_count": null,
   "id": "4b2c9f0c",
   "metadata": {},
   "outputs": [],
   "source": [
    "importances = rf_model.feature_importances_\n",
    "sorted_indices = np.argsort(importances)[::-1]\n",
    "sorted_importances = importances[sorted_indices]\n",
    "sorted_features = np.array(feature_names)[sorted_indices]\n",
    "\n",
    "print(\"Top 5 Most Important Features:\")\n",
    "for i in range(5):\n",
    "    print(f\"{sorted_features[i]}: {sorted_importances[i]:.4f}\")\n",
    "\n",
    "\n"
   ]
  },
  {
   "cell_type": "code",
   "execution_count": 7,
   "id": "95c1d3b3",
   "metadata": {},
   "outputs": [
    {
     "data": {
      "image/png": "[encoded data removed]",
      "text/plain": [
       "<Figure size 1000x600 with 1 Axes>"
      ]
     },
     "metadata": {},
     "output_type": "display_data"
    }
   ],
   "source": [
    "plt.figure(figsize=(10, 6))\n",
    "plt.title('Feature Importances (Random Forest)')\n",
    "plt.bar(range(X.shape[1]), sorted_importances, align='center')\n",
    "plt.xticks(range(X.shape[1]), sorted_features, rotation=90)\n",
    "plt.tight_layout()\n",
    "# plt.show()"
   ]
  },
  {
   "cell_type": "code",
   "execution_count": 8,
   "id": "52633e77",
   "metadata": {},
   "outputs": [
    {
     "name": "stdout",
     "output_type": "stream",
     "text": [
      "Cross-Validation  Scores (5-Fold): [0.92 0.91 0.89 0.92 0.95]\n",
      "Mean CV Accuracy: 0.9180\n",
      "CV Standard Deviation: 0.0194\n"
     ]
    }
   ],
   "source": [
    "cv_scores = cross_val_score(rf_model, X, y, cv=5, scoring='accuracy', n_jobs=-1) # 5-fold CV [cite: 11]\n",
    "\n",
    "print(f\"Cross-Validation  Scores (5-Fold): {cv_scores}\")\n",
    "print(f\"Mean CV Accuracy: {cv_scores.mean():.4f}\")\n",
    "print(f\"CV Standard Deviation: {cv_scores.std():.4f}\")"
   ]
  }
 ],
 "metadata": {
  "kernelspec": {
   "display_name": "base",
   "language": "python",
   "name": "python3"
  },
  "language_info": {
   "codemirror_mode": {
    "name": "ipython",
    "version": 3
   },
   "file_extension": ".py",
   "mimetype": "text/x-python",
   "name": "python",
   "nbconvert_exporter": "python",
   "pygments_lexer": "ipython3",
   "version": "3.12.7"
  }
 },
 "nbformat": 4,
 "nbformat_minor": 5
}
